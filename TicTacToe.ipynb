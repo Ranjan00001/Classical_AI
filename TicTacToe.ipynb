{
  "cells": [
    {
      "cell_type": "markdown",
      "metadata": {
        "id": "G296SnTCLZ1K"
      },
      "source": [
        "This module is dedicated for traning the computer to play Tic Tac Toe game. Computer take turns first identified as 'max'. After that other agent will take turn as 'min'.\n",
        "\n",
        "First of all we need to make the game tree. After that we need to keep track on each terminal state, it will be used for training by minimax.\n",
        "We have these 4 methods for identifying the terminal state.\n",
        "1) isVerticalMatch(state) : Identifies whether this state has vertical match or not\n",
        "2) isHorizontalMatch(state) : Tests if this state has horizontal match or not\n",
        "3) isDiagonalMatch(state) : Shows whether this state has diagonal match or not\n",
        "4) idGameTreeEnd(state) : Returns True if state is the leaf node in Game Tree\n",
        "\n"
      ]
    },
    {
      "cell_type": "code",
      "execution_count": 1,
      "metadata": {
        "id": "XhYW6HnBLZ1N"
      },
      "outputs": [],
      "source": [
        "import random\n",
        "import json"
      ]
    },
    {
      "cell_type": "code",
      "execution_count": 2,
      "metadata": {
        "id": "4GyqgMWrLZ1P"
      },
      "outputs": [],
      "source": [
        "terminalStates = []     # keeps track on the terminal state of this game tree\n",
        "\n",
        "class State:\n",
        "    parentDict = {}\n",
        "\n",
        "    def __init__(self, parent, data, level, children):\n",
        "        self.parent = parent\n",
        "        self.data = data\n",
        "        self.level = level\n",
        "        self.childrens = children\n",
        "        self.score = 0\n",
        "\n",
        "    def addChildren(self, player):\n",
        "        if not self.isTerminalState():\n",
        "            entry = 'X' if player == 'max' else 'O'\n",
        "            for i in range(9):\n",
        "                if self.data[i] == 'E':\n",
        "                    # make a list with a new entry at ith position\n",
        "                    copy = self.data[:]\n",
        "                    copy[i] = entry\n",
        "                    # append this to childrens List\n",
        "                    childLevel = self.level + 1\n",
        "                    currentChild = State(self, copy, childLevel, [])\n",
        "                    self.childrens.append(currentChild)\n",
        "        else:\n",
        "            parent = self.parent                # to keep track on the terminal state\n",
        "            if parent not in State.parentDict:  # for inserting the one node only one times\n",
        "                terminalStates.append(self)     # we need append those elements only whose parents are not same\n",
        "            State.parentDict[parent] = 1        # for storing unique parent, we are using parent dict\n",
        "\n",
        "    def makeGameTree(self):                     # recursive method to make the whole game tree\n",
        "        depth = self.level\n",
        "        turn = 'max' if depth % 2 == 0 else 'min'\n",
        "        if depth <= 9:\n",
        "            self.addChildren(turn)\n",
        "            for child in self.childrens:\n",
        "                child.makeGameTree()\n",
        "\n",
        "    # methods for adding score and checking if its the terminal state or not\n",
        "    def isVerticalMatch(self):\n",
        "        '''\n",
        "        returns True if there is vertical matching in data else False\n",
        "        '''\n",
        "        lst = self.data\n",
        "        for i in range(3):\n",
        "            lst1 = []\n",
        "            for j in range(3):\n",
        "                value = lst[i+3*j]\n",
        "                lst1.append(value)\n",
        "            s = list(set(lst1))\n",
        "            if len(s) == 1:\n",
        "                if s[0] == 'O':\n",
        "                    self.score = -1\n",
        "                    return 'min'\n",
        "                elif s[0] == 'X':\n",
        "                    self.score = 1\n",
        "                    return 'max'\n",
        "        # self.score = 0\n",
        "        return False\n",
        "\n",
        "    def isHorizontalMatch(self):\n",
        "        lst = self.data\n",
        "        for i in range(3):\n",
        "            lst1 = []\n",
        "            for j in range(3):\n",
        "                value = lst[3*i+j]\n",
        "                lst1.append(value)\n",
        "            s = list(set(lst1))\n",
        "            if len(s) == 1:\n",
        "                if s[0] == 'O':\n",
        "                    self.score = -1\n",
        "                    return 'min'\n",
        "                elif s[0] == 'X':\n",
        "                    self.score = 1\n",
        "                    return 'max'\n",
        "\n",
        "        # self.score = 0\n",
        "        return False\n",
        "\n",
        "\n",
        "    def isDiagonalMatch(self):\n",
        "        lst= self.data\n",
        "        t1 = list(set([lst[0], lst[4], lst[8]]))\n",
        "        t2 = list(set([lst[2], lst[4], lst[6]]))\n",
        "        if len(t1) == 1:\n",
        "            if t1[0] == 'O':\n",
        "                self.score = -1\n",
        "                return 'min'\n",
        "            elif t1[0] == 'X':\n",
        "                self.score = 1\n",
        "                return 'max'\n",
        "\n",
        "        if len(t2) == 1:\n",
        "            if t2[0] == 'O':\n",
        "                self.score = -1\n",
        "                return 'min'\n",
        "            elif t2[0] == 'X':\n",
        "                self.score = 1\n",
        "                return 'max'\n",
        "\n",
        "        # self.score = 0\n",
        "        return False\n",
        "\n",
        "\n",
        "    def isLevelEnd(self):\n",
        "        depth = self.level\n",
        "        if depth == 9:\n",
        "            self.score = 0\n",
        "            return \"Tie\"\n",
        "        return False\n",
        "\n",
        "\n",
        "    def isTerminalState(self):\n",
        "        '''\n",
        "        returns winning player or \"Tie\" if state is a terminal state else False\n",
        "\n",
        "        state is a state type object representing one node in game tree\n",
        "        '''\n",
        "        condition = self.isVerticalMatch() or self.isHorizontalMatch() or self.isDiagonalMatch() or self.isLevelEnd()\n",
        "        return condition\n"
      ]
    },
    {
      "cell_type": "code",
      "execution_count": 3,
      "metadata": {
        "id": "2UCllpI7LZ1R"
      },
      "outputs": [],
      "source": [
        "start = ['E' for i in range(9)]\n",
        "Gametree = [start]\n",
        "zeroState = State(None, start, 0, [])\n",
        "zeroState.score = 0\n",
        "zeroState.makeGameTree()        # this will make the whole game tree\n"
      ]
    },
    {
      "cell_type": "code",
      "execution_count": 4,
      "metadata": {
        "id": "mylZseeeLZ1R"
      },
      "outputs": [],
      "source": [
        "# Now training gametree with minimax\n",
        "def trainMinimax(gametree):\n",
        "    # gametree refers to list of all the terminal states\n",
        "    for state in gametree:      # starting from terminal nodes\n",
        "        if state.parent:\n",
        "            parent = state.parent\n",
        "            scoreList = [child.score for child in parent.childrens]\n",
        "            stateLevel = state.level\n",
        "            turn = 'max' if stateLevel % 2 == 0 else 'min'\n",
        "            if turn == 'max':\n",
        "                score = min(scoreList)\n",
        "            else:\n",
        "                score = max(scoreList)\n",
        "            parent.score = score\n",
        "            gametree.append(parent) # dikkat ye hai ki parent multiple time append ho jayega\n",
        "\n",
        "\n",
        "trainMinimax(terminalStates)"
      ]
    },
    {
      "cell_type": "code",
      "execution_count": 5,
      "metadata": {
        "id": "yBZyyCGq2ema"
      },
      "outputs": [],
      "source": [
        "# getting all the states and its score in a json after training\n",
        "dict = {}\n",
        "def makeDict(state):                     # recursive method to make the whole game tree\n",
        "    depth = state.level\n",
        "    if depth <= 9:\n",
        "        for child in state.childrens:\n",
        "            dict[str(child.data)] = child.score\n",
        "            makeDict(child)"
      ]
    },
    {
      "cell_type": "code",
      "execution_count": 6,
      "metadata": {
        "id": "JH47hhOdLZ1S"
      },
      "outputs": [],
      "source": [
        "makeDict(zeroState)\n",
        "with open(r\"C:\\Users\\LENOVO-PC\\Downloads\\gameTree.json\", 'w') as json_file:\n",
        "    json.dump(dict, json_file, indent = 4)"
      ]
    },
    {
      "cell_type": "code",
      "execution_count": 7,
      "metadata": {
        "id": "jT740oEcLZ1S"
      },
      "outputs": [],
      "source": [
        "def compMove(state):\n",
        "    parentScore = state.score\n",
        "    for child in state.childrens:\n",
        "        # print(child.score, parentScore)\n",
        "        if child.score == parentScore:\n",
        "            return child\n",
        "\n",
        "def humanMove(state, index):\n",
        "    Temp = state.data[:]\n",
        "    Temp[index] = 'O'\n",
        "    for child in state.childrens:\n",
        "        if child.data == Temp:\n",
        "            return child\n",
        "\n",
        "def displayState(state):\n",
        "    print('###################')\n",
        "    print('| ', state[0], ' | ', state[1], ' | ', state[2], ' |')\n",
        "    print('-------------------')\n",
        "    print('| ', state[3], ' | ', state[4], ' | ', state[5], ' |')\n",
        "    print('-------------------')\n",
        "    print('| ', state[6], ' | ', state[7], ' | ', state[8], ' |')\n",
        "    print('###################')"
      ]
    },
    {
      "cell_type": "code",
      "execution_count": 8,
      "metadata": {
        "id": "xFulUkBpLZ1T"
      },
      "outputs": [],
      "source": [
        "def play():\n",
        "    nextState = compMove(zeroState)\n",
        "\n",
        "    for i in range(4):\n",
        "        displayState(nextState.data)\n",
        "        index = int(input('Enter your move from 0 to 8 '))\n",
        "        nextState = humanMove(nextState, index)\n",
        "        if nextState is None:\n",
        "          return 'Enter valid index'\n",
        "        value = nextState.isTerminalState()\n",
        "        # print(nextState.data, value)\n",
        "        if  value:\n",
        "          displayState(nextState.data)\n",
        "          return value\n",
        "        # displayState(nextState.data)\n",
        "        nextState = compMove(nextState)\n",
        "        val = nextState.isTerminalState()\n",
        "        if val:\n",
        "          displayState(nextState.data)\n",
        "          return val\n",
        "\n",
        "    return \"Tie\"\n",
        "\n"
      ]
    },
    {
      "cell_type": "code",
      "execution_count": 9,
      "metadata": {
        "colab": {
          "base_uri": "https://localhost:8080/",
          "height": 435
        },
        "id": "oJ9vowG1Iiop",
        "outputId": "cd242289-9b9e-4c3c-c49e-785a15cf6c14"
      },
      "outputs": [
        {
          "name": "stdout",
          "output_type": "stream",
          "text": [
            "###################\n",
            "|  X  |  E  |  E  |\n",
            "-------------------\n",
            "|  E  |  E  |  E  |\n",
            "-------------------\n",
            "|  E  |  E  |  E  |\n",
            "###################\n",
            "###################\n",
            "|  X  |  E  |  X  |\n",
            "-------------------\n",
            "|  E  |  E  |  O  |\n",
            "-------------------\n",
            "|  E  |  E  |  E  |\n",
            "###################\n",
            "###################\n",
            "|  X  |  O  |  X  |\n",
            "-------------------\n",
            "|  E  |  X  |  O  |\n",
            "-------------------\n",
            "|  E  |  E  |  E  |\n",
            "###################\n",
            "###################\n",
            "|  X  |  O  |  X  |\n",
            "-------------------\n",
            "|  E  |  X  |  O  |\n",
            "-------------------\n",
            "|  X  |  E  |  O  |\n",
            "###################\n"
          ]
        },
        {
          "data": {
            "text/plain": [
              "'max'"
            ]
          },
          "execution_count": 9,
          "metadata": {},
          "output_type": "execute_result"
        }
      ],
      "source": [
        "play()"
      ]
    },
    {
      "cell_type": "markdown",
      "metadata": {
        "id": "V294gjxRLZ1W"
      },
      "source": [
        "Training by reinforcement learning"
      ]
    },
    {
      "cell_type": "code",
      "execution_count": 10,
      "metadata": {
        "id": "WdDa8ukkLZ1W"
      },
      "outputs": [],
      "source": [
        "start = ['E' for i in range(9)]\n",
        "Gametree = [start]\n",
        "zeroState1 = State(None, start, 0, [])\n",
        "zeroState1.makeGameTree()\n",
        "alpha = 0.3     # learning rate"
      ]
    },
    {
      "cell_type": "code",
      "execution_count": 11,
      "metadata": {
        "id": "_fLK01ZEyPQP"
      },
      "outputs": [],
      "source": [
        "def treeTraining(state):\n",
        "    if state.isTerminalState():\n",
        "        return state.score\n",
        "    childrenCount = len(state.childrens)\n",
        "    a = random.randint(0, childrenCount-1)\n",
        "    # print(a)\n",
        "    child = state.childrens[a]\n",
        "    state.score = state.score + alpha*(child.score - state.score)\n",
        "    # print(state.score)\n",
        "    return treeTraining(child)\n",
        "\n",
        "def reinforcementLearning():\n",
        "    for i in range(100000):\n",
        "        (treeTraining(zeroState1))"
      ]
    },
    {
      "cell_type": "code",
      "execution_count": 12,
      "metadata": {
        "id": "DqzCteD4Kc57"
      },
      "outputs": [],
      "source": [
        "reinforcementLearning()"
      ]
    },
    {
      "cell_type": "code",
      "execution_count": 13,
      "metadata": {
        "id": "4UhYxAea6IYY"
      },
      "outputs": [],
      "source": [
        "def compMove(state):\n",
        "    scoreList = [child.score for child in state.childrens]\n",
        "    maxScore = max(scoreList)\n",
        "    for child in state.childrens:\n",
        "        # print(child.score, parentScore)\n",
        "        if child.score == maxScore:\n",
        "            return child\n",
        "\n",
        "def humanMove(state, index):\n",
        "    Temp = state.data[:]\n",
        "    Temp[index] = 'O'\n",
        "    for child in state.childrens:\n",
        "        if child.data == Temp:\n",
        "            return child\n",
        "\n",
        "def displayState(state):\n",
        "    print('###################')\n",
        "    print('| ', state[0], ' | ', state[1], ' | ', state[2], ' |')\n",
        "    print('-------------------')\n",
        "    print('| ', state[3], ' | ', state[4], ' | ', state[5], ' |')\n",
        "    print('-------------------')\n",
        "    print('| ', state[6], ' | ', state[7], ' | ', state[8], ' |')\n",
        "    print('###################')"
      ]
    },
    {
      "cell_type": "code",
      "execution_count": 14,
      "metadata": {
        "id": "l2dCQbDW6K5i"
      },
      "outputs": [],
      "source": [
        "def play():\n",
        "    nextState = compMove(zeroState1)\n",
        "\n",
        "    for i in range(4):\n",
        "        displayState(nextState.data)\n",
        "        index = int(input('Enter your move from 0 to 8 '))\n",
        "        nextState = humanMove(nextState, index)\n",
        "        if nextState is None:\n",
        "          return 'Enter valid index'\n",
        "        value = nextState.isTerminalState()\n",
        "        # print(nextState.data, value)\n",
        "        if  value:\n",
        "          displayState(nextState.data)\n",
        "          return value\n",
        "        # displayState(nextState.data)\n",
        "        nextState = compMove(nextState)\n",
        "        val = nextState.isTerminalState()\n",
        "        if val:\n",
        "          displayState(nextState.data)\n",
        "          return val\n",
        "\n",
        "    return \"Tie\"\n",
        "\n"
      ]
    },
    {
      "cell_type": "code",
      "execution_count": 15,
      "metadata": {
        "colab": {
          "base_uri": "https://localhost:8080/",
          "height": 573
        },
        "id": "WDGfVPh5K9I7",
        "outputId": "16e63cd8-0146-42b5-f030-7ae7a96fe0b7"
      },
      "outputs": [
        {
          "name": "stdout",
          "output_type": "stream",
          "text": [
            "###################\n",
            "|  E  |  E  |  E  |\n",
            "-------------------\n",
            "|  E  |  X  |  E  |\n",
            "-------------------\n",
            "|  E  |  E  |  E  |\n",
            "###################\n",
            "###################\n",
            "|  X  |  O  |  E  |\n",
            "-------------------\n",
            "|  E  |  X  |  E  |\n",
            "-------------------\n",
            "|  E  |  E  |  E  |\n",
            "###################\n",
            "###################\n",
            "|  X  |  O  |  E  |\n",
            "-------------------\n",
            "|  X  |  X  |  E  |\n",
            "-------------------\n",
            "|  E  |  E  |  O  |\n",
            "###################\n"
          ]
        },
        {
          "data": {
            "text/plain": [
              "'Enter valid index'"
            ]
          },
          "execution_count": 15,
          "metadata": {},
          "output_type": "execute_result"
        }
      ],
      "source": [
        "play()"
      ]
    }
  ],
  "metadata": {
    "colab": {
      "provenance": []
    },
    "kernelspec": {
      "display_name": "Python 3",
      "language": "python",
      "name": "python3"
    },
    "language_info": {
      "codemirror_mode": {
        "name": "ipython",
        "version": 3
      },
      "file_extension": ".py",
      "mimetype": "text/x-python",
      "name": "python",
      "nbconvert_exporter": "python",
      "pygments_lexer": "ipython3",
      "version": "3.11.5"
    }
  },
  "nbformat": 4,
  "nbformat_minor": 0
}
